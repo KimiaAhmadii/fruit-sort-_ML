{
 "cells": [
  {
   "cell_type": "code",
   "execution_count": 50,
   "metadata": {},
   "outputs": [],
   "source": [
    "import pandas as pd \n",
    "from sklearn.preprocessing import MinMaxScaler\n",
    "from sklearn import linear_model\n",
    "from sklearn.model_selection import train_test_split\n",
    "from sklearn.linear_model import LogisticRegression\n",
    "from sklearn.tree import DecisionTreeClassifier\n",
    "from sklearn.neighbors import KNeighborsClassifier"
   ]
  },
  {
   "cell_type": "code",
   "execution_count": null,
   "metadata": {},
   "outputs": [],
   "source": [
    "data=pd.read_table('fruit.txt')\n",
    "data"
   ]
  },
  {
   "cell_type": "code",
   "execution_count": 10,
   "metadata": {},
   "outputs": [],
   "source": [
    "x=data.drop(['fruit_label','fruit_name','fruit_subtype'],axis=1)\n",
    "y=data[['fruit_label']]\n"
   ]
  },
  {
   "cell_type": "code",
   "execution_count": 55,
   "metadata": {},
   "outputs": [
    {
     "name": "stdout",
     "output_type": "stream",
     "text": [
      "0.7446808510638298 /train_result linear_model.LogisticRegression\n",
      "0.4166666666666667 /test_result linear_model.LogisticRegression\n",
      "1.0 /train_result DecisionTreeClassifier\n",
      "0.75 /test_result  DecisionTreeClassifier\n",
      "1.0 /train_result KNeighborsClassifier\n",
      "0.4166666666666667 /test_result  KNeighborsClassifier\n"
     ]
    },
    {
     "name": "stderr",
     "output_type": "stream",
     "text": [
      "c:\\ProgramData\\Anaconda3\\lib\\site-packages\\sklearn\\utils\\validation.py:63: DataConversionWarning: A column-vector y was passed when a 1d array was expected. Please change the shape of y to (n_samples, ), for example using ravel().\n",
      "  return f(*args, **kwargs)\n",
      "c:\\ProgramData\\Anaconda3\\lib\\site-packages\\sklearn\\neighbors\\_classification.py:179: DataConversionWarning: A column-vector y was passed when a 1d array was expected. Please change the shape of y to (n_samples,), for example using ravel().\n",
      "  return self._fit(X, y)\n"
     ]
    }
   ],
   "source": [
    "x_train ,x_test,y_train,y_test= train_test_split(x,y,test_size=0.2)\n",
    "scaler=MinMaxScaler()\n",
    "x_train = scaler.fit_transform(x_train)\n",
    "x_test = scaler.fit_transform(x_test)\n",
    "\n",
    "\n",
    "\n",
    "model = linear_model.LogisticRegression()\n",
    "model.max_iter=100000000\n",
    "model.fit(x_train,y_train)\n",
    "model.score(x_train,y_train)\n",
    "print( model.score(x_train,y_train) ,'/train_result linear_model.LogisticRegression')\n",
    "model.score(x_test,y_test)\n",
    "print(model.score(x_test,y_test), '/test_result linear_model.LogisticRegression')\n",
    "\n",
    "\n",
    "\n",
    "\n",
    "df=DecisionTreeClassifier()\n",
    "df.fit(x_train,y_train)\n",
    "df.max_iter=100000\n",
    "df.score(x_train,y_train)\n",
    "print( df.score(x_train,y_train) ,'/train_result DecisionTreeClassifier')\n",
    "df.score(x_test,y_test)\n",
    "print(df.score(x_test,y_test), '/test_result  DecisionTreeClassifier')\n",
    "\n",
    "\n",
    "\n",
    "\n",
    "kn=KNeighborsClassifier()\n",
    "kn.fit(x_train,y_train)\n",
    "kn.max_iter=100000000\n",
    "kn.score(x_train,y_train)\n",
    "print( kn.score(x_train,y_train) ,'/train_result KNeighborsClassifier')\n",
    "kn.score(x_test,y_test)\n",
    "print(kn.score(x_test,y_test), '/test_result  KNeighborsClassifier')\n",
    "\n",
    "\n",
    "\n",
    "\n",
    "\n",
    "\n",
    "\n",
    "\n"
   ]
  }
 ],
 "metadata": {
  "kernelspec": {
   "display_name": "base",
   "language": "python",
   "name": "python3"
  },
  "language_info": {
   "codemirror_mode": {
    "name": "ipython",
    "version": 3
   },
   "file_extension": ".py",
   "mimetype": "text/x-python",
   "name": "python",
   "nbconvert_exporter": "python",
   "pygments_lexer": "ipython3",
   "version": "3.8.8"
  }
 },
 "nbformat": 4,
 "nbformat_minor": 2
}
